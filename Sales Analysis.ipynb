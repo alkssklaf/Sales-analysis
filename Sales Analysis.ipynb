{
 "cells": [
  {
   "cell_type": "markdown",
   "id": "c3e3d575-d4b6-4110-abde-310322c6fb22",
   "metadata": {},
   "source": [
    "#### Import neccesary libraries"
   ]
  },
  {
   "cell_type": "code",
   "execution_count": 41,
   "id": "98d3343b-33fe-4d05-9683-7245ba7995c6",
   "metadata": {},
   "outputs": [],
   "source": [
    "import pandas as pd\n",
    "import os\n",
    "import seaborn\n",
    "import matplotlib.pyplot as plt\n",
    "from itertools import combinations\n",
    "from collections import Counter"
   ]
  },
  {
   "cell_type": "markdown",
   "id": "21d01a80-8b5f-43b5-919b-b862e99460b1",
   "metadata": {},
   "source": [
    "#### Read a file"
   ]
  },
  {
   "cell_type": "code",
   "execution_count": 2,
   "id": "667ce323-9112-43a6-9a9b-3e003053cff1",
   "metadata": {},
   "outputs": [],
   "source": [
    "file_path= \"Sales_Data\"\n",
    "file_list = os.listdir(file_path)"
   ]
  },
  {
   "cell_type": "markdown",
   "id": "fe94655c-4c51-4ea5-bf2d-511acfc464c8",
   "metadata": {},
   "source": [
    "##### Merging 12 csv files with the same schema into one file"
   ]
  },
  {
   "cell_type": "code",
   "execution_count": 4,
   "id": "1e122cb0-67b9-4fd7-87e5-ba3a19eed587",
   "metadata": {},
   "outputs": [],
   "source": [
    "df_concat = pd.concat([pd.read_csv(file_path + \"/\" + f) for f in file_list ], ignore_index=True)"
   ]
  },
  {
   "cell_type": "markdown",
   "id": "fe6c6869-9b08-43b4-93d3-c0039a50a767",
   "metadata": {},
   "source": [
    "#### Cleaning part"
   ]
  },
  {
   "cell_type": "markdown",
   "id": "2f8d0e85-e241-4b7e-a54e-299d0f04f055",
   "metadata": {},
   "source": [
    "##### Get rid of null values"
   ]
  },
  {
   "cell_type": "code",
   "execution_count": 5,
   "id": "db6cf940-c11e-41cf-9239-a3b25bbb4ee7",
   "metadata": {},
   "outputs": [],
   "source": [
    "df_concat.dropna(inplace = True)"
   ]
  },
  {
   "cell_type": "markdown",
   "id": "ba77a6dd-769e-4e74-8ff5-3aca78d8b975",
   "metadata": {},
   "source": [
    "##### Remove incorrect data from column \"Order ID\""
   ]
  },
  {
   "cell_type": "code",
   "execution_count": 6,
   "id": "22c5fa9c-a874-46c8-b7dd-533588a843d9",
   "metadata": {},
   "outputs": [],
   "source": [
    "index = df_concat[df_concat['Order ID'] == 'Order ID'].index\n",
    "df_concat.drop(index, inplace = True)"
   ]
  },
  {
   "cell_type": "markdown",
   "id": "2eae6f47-bd91-423e-b61b-2e8806fa0b01",
   "metadata": {},
   "source": [
    "##### Set correct data types with mapper"
   ]
  },
  {
   "cell_type": "code",
   "execution_count": 7,
   "id": "a9f550b7-c7c1-4be4-9bc4-93cdb55ceae3",
   "metadata": {},
   "outputs": [],
   "source": [
    "df_concat = df_concat.astype(\n",
    "    {\n",
    "     'Order ID': int,\n",
    "     'Product': str,\n",
    "     'Quantity Ordered': int,\n",
    "     'Price Each': float,\n",
    "     'Order Date': str,\n",
    "     'Purchase Address': str\n",
    "    })\n",
    "     "
   ]
  },
  {
   "cell_type": "markdown",
   "id": "3178f5b8-175c-4636-83dd-eb4e1f823e25",
   "metadata": {},
   "source": [
    "#### Analysis part"
   ]
  },
  {
   "cell_type": "markdown",
   "id": "7338cb9b-fa9a-4ebf-be53-49b205d57f5c",
   "metadata": {},
   "source": [
    "##### Question 1: What was the best month for sales? How much was earned that month?"
   ]
  },
  {
   "cell_type": "markdown",
   "id": "71b4e227-f75c-4b7a-bae9-4d1d62054b25",
   "metadata": {},
   "source": [
    "Extract month from string"
   ]
  },
  {
   "cell_type": "code",
   "execution_count": 8,
   "id": "b5dc8cdc-2d88-40ed-bde3-2f10cd85ea87",
   "metadata": {},
   "outputs": [],
   "source": [
    "df_concat['Month'] = [month.split(\"/\")[0] for month in df_concat['Order Date']]"
   ]
  },
  {
   "cell_type": "markdown",
   "id": "a7849a0e-f89b-419a-8af1-9b5aacde26ae",
   "metadata": {},
   "source": [
    "Calculate profit"
   ]
  },
  {
   "cell_type": "code",
   "execution_count": 9,
   "id": "983d32be-1ef8-40fb-81cf-aaa85110fc77",
   "metadata": {
    "jupyter": {
     "source_hidden": true
    }
   },
   "outputs": [],
   "source": [
    "df_concat['Profit'] = df_concat['Quantity Ordered'] * df_concat['Price Each']"
   ]
  },
  {
   "cell_type": "markdown",
   "id": "9ce8ba43-a199-40b2-af35-133745efd9db",
   "metadata": {},
   "source": [
    "Group by month to sum profit"
   ]
  },
  {
   "cell_type": "code",
   "execution_count": 10,
   "id": "24a86749-77ca-466f-b419-044d4a071bf3",
   "metadata": {},
   "outputs": [],
   "source": [
    "monthly_profit = df_concat[['Month', 'Profit']].groupby('Month').sum()\n",
    "max_profit_month = monthly_profit['Profit'].idxmax()"
   ]
  },
  {
   "cell_type": "markdown",
   "id": "9fadb417-1e0d-4b91-b2f4-ad0524d404c7",
   "metadata": {},
   "source": [
    "Answer: December was the best month for sales: 4613443.34"
   ]
  },
  {
   "cell_type": "markdown",
   "id": "01dc42d5-0d7e-4ff0-b7eb-22a5548d71ac",
   "metadata": {},
   "source": [
    "##### Question 2: What city had the highest number of sales?"
   ]
  },
  {
   "cell_type": "markdown",
   "id": "c7ac44da-849d-46e1-a942-817fceb25ee1",
   "metadata": {},
   "source": [
    "Extract city from string"
   ]
  },
  {
   "cell_type": "code",
   "execution_count": 12,
   "id": "3eee7539-f8f2-4063-8867-cc1209020904",
   "metadata": {},
   "outputs": [],
   "source": [
    "df_concat['City'] = [city.split(\",\")[1] for city in df_concat['Purchase Address']]"
   ]
  },
  {
   "cell_type": "code",
   "execution_count": 13,
   "id": "ffda250a-aaec-4e11-8557-daedd4d67a98",
   "metadata": {},
   "outputs": [
    {
     "data": {
      "text/plain": [
       "' San Francisco'"
      ]
     },
     "execution_count": 13,
     "metadata": {},
     "output_type": "execute_result"
    }
   ],
   "source": [
    "city_profit = df_concat[[\"City\", \"Profit\"]].groupby(\"City\").sum()\n",
    "city_profit['Profit'].idxmax()"
   ]
  },
  {
   "cell_type": "markdown",
   "id": "6e05dab1-d68d-4928-9a30-ccd8d23cd6ab",
   "metadata": {},
   "source": [
    "Answer: Maximum sales were in San Francisco: 2747755.48"
   ]
  },
  {
   "cell_type": "markdown",
   "id": "3d4603b3-1b4c-4581-bf47-33cbac626e7b",
   "metadata": {},
   "source": [
    "#### Question 3: What time should we display advertisememnts to maximize likelihood of customer's buying product?"
   ]
  },
  {
   "cell_type": "markdown",
   "id": "0989573d-899e-4080-8d9c-8ca2d8e2bf19",
   "metadata": {},
   "source": [
    "Convert column to date and time format in order to easily extract hour"
   ]
  },
  {
   "cell_type": "code",
   "execution_count": 14,
   "id": "56fa36e5-06ad-4016-8a68-d5b89fbadce7",
   "metadata": {},
   "outputs": [
    {
     "name": "stderr",
     "output_type": "stream",
     "text": [
      "C:\\Users\\AF8681\\AppData\\Local\\Temp\\ipykernel_8684\\1512091181.py:1: UserWarning: Could not infer format, so each element will be parsed individually, falling back to `dateutil`. To ensure parsing is consistent and as-expected, please specify a format.\n",
      "  df_concat[\"Order Date\"] = pd.to_datetime(df_concat[\"Order Date\"])\n"
     ]
    }
   ],
   "source": [
    "df_concat[\"Order Date\"] = pd.to_datetime(df_concat[\"Order Date\"])"
   ]
  },
  {
   "cell_type": "code",
   "execution_count": 15,
   "id": "0e9755de-2b04-470f-9094-9c39ced26815",
   "metadata": {},
   "outputs": [],
   "source": [
    "df_concat[\"Hour\"] = df_concat['Order Date'].dt.hour"
   ]
  },
  {
   "cell_type": "code",
   "execution_count": 16,
   "id": "41a5e412-c0a2-406a-b742-3c29a6eb1249",
   "metadata": {},
   "outputs": [
    {
     "data": {
      "image/png": "[encoded data removed]",
      "text/plain": [
       "<Figure size 1000x600 with 1 Axes>"
      ]
     },
     "metadata": {},
     "output_type": "display_data"
    }
   ],
   "source": [
    "# First, group by 'Hour' and count occurrences\n",
    "hourly_counts = df_concat.groupby('Hour').size()\n",
    "\n",
    "# Create a line plot\n",
    "plt.figure(figsize=(10, 6))\n",
    "plt.plot(hourly_counts.index, hourly_counts.values, marker='o')\n",
    "\n",
    "# Add labels and title\n",
    "plt.xlabel('Hour')\n",
    "plt.ylabel('Count')\n",
    "plt.title('Advertisement Performance by Hour')\n",
    "\n",
    "# Show the plot\n",
    "plt.xticks(hourly_counts.index)  # Ensure all hours are shown on the x-axis\n",
    "plt.grid(True)\n",
    "plt.show()"
   ]
  },
  {
   "cell_type": "markdown",
   "id": "fb990f97-bcd0-451e-b6b6-7c903cee6514",
   "metadata": {},
   "source": [
    "Answer: The best time for advertisements is from 11am to 1pm and from 6mp to 8pm."
   ]
  },
  {
   "cell_type": "markdown",
   "id": "ff8d6014-4fd2-453e-b205-0ba7a0121f42",
   "metadata": {},
   "source": [
    "#### Question 4: What products are most often sold together?"
   ]
  },
  {
   "cell_type": "markdown",
   "id": "2bc3c84a-48b4-41d6-bb3b-e777b7e27e18",
   "metadata": {},
   "source": [
    "I am interested in duplicated Order IDs, because it means that the same customer made order more than once"
   ]
  },
  {
   "cell_type": "code",
   "execution_count": 17,
   "id": "23e2239e-40d9-45b7-a02e-843b74ac25f2",
   "metadata": {},
   "outputs": [],
   "source": [
    "df = df_concat[df_concat[\"Order ID\"].duplicated(keep = False)]"
   ]
  },
  {
   "cell_type": "markdown",
   "id": "b9febd39-e405-41f4-b71e-21e448dcb6a9",
   "metadata": {},
   "source": [
    "Create pairs"
   ]
  },
  {
   "cell_type": "code",
   "execution_count": 18,
   "id": "fd913a7a-fcda-40cf-9dfc-8d6f94772de5",
   "metadata": {},
   "outputs": [
    {
     "name": "stderr",
     "output_type": "stream",
     "text": [
      "C:\\Users\\AF8681\\AppData\\Local\\Temp\\ipykernel_8684\\2345761670.py:1: SettingWithCopyWarning: \n",
      "A value is trying to be set on a copy of a slice from a DataFrame.\n",
      "Try using .loc[row_indexer,col_indexer] = value instead\n",
      "\n",
      "See the caveats in the documentation: https://pandas.pydata.org/pandas-docs/stable/user_guide/indexing.html#returning-a-view-versus-a-copy\n",
      "  df['Grouped'] = df.groupby('Order ID')['Product'].transform(lambda x: ','.join(x))\n"
     ]
    }
   ],
   "source": [
    "df['Grouped'] = df.groupby('Order ID')['Product'].transform(lambda x: ','.join(x))"
   ]
  },
  {
   "cell_type": "markdown",
   "id": "e4c3f207-a85a-44fd-af4c-5fbecabb26e8",
   "metadata": {},
   "source": [
    "Remove duplicates"
   ]
  },
  {
   "cell_type": "code",
   "execution_count": 22,
   "id": "cfc10e08-a404-4282-9b29-68d563729b5a",
   "metadata": {},
   "outputs": [],
   "source": [
    "df = df[[\"Order ID\", \"Grouped\"]].drop_duplicates()"
   ]
  },
  {
   "cell_type": "markdown",
   "id": "d2a5d31f-8d0a-4292-b8f4-799e534cc127",
   "metadata": {},
   "source": [
    "Count pairs"
   ]
  },
  {
   "cell_type": "code",
   "execution_count": 25,
   "id": "e9a89432-3ac5-46da-a698-4eaff918518b",
   "metadata": {},
   "outputs": [
    {
     "name": "stdout",
     "output_type": "stream",
     "text": [
      "Counter({('iPhone', 'Lightning Charging Cable'): 1005, ('Google Phone', 'USB-C Charging Cable'): 987, ('iPhone', 'Wired Headphones'): 447, ('Google Phone', 'Wired Headphones'): 414, ('Vareebadd Phone', 'USB-C Charging Cable'): 361, ('iPhone', 'Apple Airpods Headphones'): 360, ('Google Phone', 'Bose SoundSport Headphones'): 220, ('USB-C Charging Cable', 'Wired Headphones'): 160, ('Vareebadd Phone', 'Wired Headphones'): 143, ('Lightning Charging Cable', 'Wired Headphones'): 92, ('Lightning Charging Cable', 'Apple Airpods Headphones'): 81, ('Vareebadd Phone', 'Bose SoundSport Headphones'): 80, ('USB-C Charging Cable', 'Bose SoundSport Headphones'): 77, ('Apple Airpods Headphones', 'Wired Headphones'): 69, ('Lightning Charging Cable', 'USB-C Charging Cable'): 58, ('Lightning Charging Cable', 'AA Batteries (4-pack)'): 55, ('Lightning Charging Cable', 'Lightning Charging Cable'): 54, ('Bose SoundSport Headphones', 'Wired Headphones'): 53, ('AA Batteries (4-pack)', 'Lightning Charging Cable'): 51, ('AAA Batteries (4-pack)', 'USB-C Charging Cable'): 50, ('Apple Airpods Headphones', 'AAA Batteries (4-pack)'): 48, ('AA Batteries (4-pack)', 'AAA Batteries (4-pack)'): 48, ('USB-C Charging Cable', 'USB-C Charging Cable'): 48, ('AAA Batteries (4-pack)', 'AAA Batteries (4-pack)'): 48, ('USB-C Charging Cable', 'AAA Batteries (4-pack)'): 45, ('Wired Headphones', 'USB-C Charging Cable'): 45, ('AA Batteries (4-pack)', 'Wired Headphones'): 44, ('AAA Batteries (4-pack)', 'Lightning Charging Cable'): 44, ('AAA Batteries (4-pack)', 'Wired Headphones'): 43, ('Wired Headphones', 'AAA Batteries (4-pack)'): 43, ('USB-C Charging Cable', 'Lightning Charging Cable'): 42, ('AA Batteries (4-pack)', 'Apple Airpods Headphones'): 41, ('AAA Batteries (4-pack)', 'AA Batteries (4-pack)'): 39, ('Wired Headphones', 'AA Batteries (4-pack)'): 39, ('Lightning Charging Cable', 'Bose SoundSport Headphones'): 39, ('USB-C Charging Cable', 'AA Batteries (4-pack)'): 38, ('Bose SoundSport Headphones', 'AAA Batteries (4-pack)'): 37, ('AA Batteries (4-pack)', 'USB-C Charging Cable'): 37, ('Wired Headphones', 'Lightning Charging Cable'): 37, ('Lightning Charging Cable', 'AAA Batteries (4-pack)'): 36, ('Apple Airpods Headphones', 'Lightning Charging Cable'): 35, ('Wired Headphones', 'Wired Headphones'): 35, ('AA Batteries (4-pack)', 'AA Batteries (4-pack)'): 35, ('USB-C Charging Cable', 'Apple Airpods Headphones'): 34, ('Bose SoundSport Headphones', 'Lightning Charging Cable'): 33, ('AAA Batteries (4-pack)', 'Apple Airpods Headphones'): 33, ('Apple Airpods Headphones', 'Bose SoundSport Headphones'): 32, ('Wired Headphones', 'Apple Airpods Headphones'): 31, ('USB-C Charging Cable', '27in FHD Monitor'): 31, ('Apple Airpods Headphones', 'USB-C Charging Cable'): 29, ('Apple Airpods Headphones', 'AA Batteries (4-pack)'): 29, ('AA Batteries (4-pack)', 'Bose SoundSport Headphones'): 28, ('Bose SoundSport Headphones', 'Bose SoundSport Headphones'): 27, ('Bose SoundSport Headphones', 'AA Batteries (4-pack)'): 27, ('Bose SoundSport Headphones', 'USB-C Charging Cable'): 25, ('Apple Airpods Headphones', 'Apple Airpods Headphones'): 24, ('AAA Batteries (4-pack)', '27in FHD Monitor'): 22, ('27in FHD Monitor', 'AAA Batteries (4-pack)'): 21, ('Wired Headphones', 'Bose SoundSport Headphones'): 21, ('AAA Batteries (4-pack)', 'Bose SoundSport Headphones'): 20, ('34in Ultrawide Monitor', 'AA Batteries (4-pack)'): 19, ('Lightning Charging Cable', '27in 4K Gaming Monitor'): 18, ('AA Batteries (4-pack)', 'iPhone'): 18, ('27in FHD Monitor', 'Lightning Charging Cable'): 18, ('Lightning Charging Cable', '27in FHD Monitor'): 18, ('34in Ultrawide Monitor', 'Lightning Charging Cable'): 18, ('Wired Headphones', '27in 4K Gaming Monitor'): 18, ('Bose SoundSport Headphones', 'Apple Airpods Headphones'): 18, ('iPhone', 'AAA Batteries (4-pack)'): 17, ('Wired Headphones', '34in Ultrawide Monitor'): 17, ('ThinkPad Laptop', 'AAA Batteries (4-pack)'): 16, ('Lightning Charging Cable', 'Google Phone'): 16, ('27in 4K Gaming Monitor', 'Lightning Charging Cable'): 16, ('34in Ultrawide Monitor', 'USB-C Charging Cable'): 15, ('27in FHD Monitor', 'AA Batteries (4-pack)'): 15, ('Wired Headphones', 'iPhone'): 15, ('AAA Batteries (4-pack)', '27in 4K Gaming Monitor'): 15, ('iPhone', 'USB-C Charging Cable'): 15, ('20in Monitor', 'USB-C Charging Cable'): 15, ('Lightning Charging Cable', '20in Monitor'): 15, ('27in 4K Gaming Monitor', 'AAA Batteries (4-pack)'): 15, ('Lightning Charging Cable', '34in Ultrawide Monitor'): 15, ('Google Phone', 'AA Batteries (4-pack)'): 14, ('Apple Airpods Headphones', 'Google Phone'): 14, ('USB-C Charging Cable', 'iPhone'): 14, ('Bose SoundSport Headphones', '27in FHD Monitor'): 14, ('AA Batteries (4-pack)', '27in 4K Gaming Monitor'): 14, ('AAA Batteries (4-pack)', 'iPhone'): 14, ('iPhone', 'AA Batteries (4-pack)'): 14, ('AA Batteries (4-pack)', 'Flatscreen TV'): 13, ('AA Batteries (4-pack)', '34in Ultrawide Monitor'): 13, ('AAA Batteries (4-pack)', '34in Ultrawide Monitor'): 13, ('Apple Airpods Headphones', 'iPhone'): 13, ('Wired Headphones', 'Macbook Pro Laptop'): 13, ('Apple Airpods Headphones', '27in 4K Gaming Monitor'): 12, ('Apple Airpods Headphones', '27in FHD Monitor'): 12, ('27in FHD Monitor', 'Bose SoundSport Headphones'): 12, ('27in FHD Monitor', 'USB-C Charging Cable'): 12, ('Google Phone', 'Lightning Charging Cable'): 12, ('Apple Airpods Headphones', 'Macbook Pro Laptop'): 12, ('27in 4K Gaming Monitor', 'USB-C Charging Cable'): 12, ('Macbook Pro Laptop', 'USB-C Charging Cable'): 12, ('Wired Headphones', '27in FHD Monitor'): 12, ('20in Monitor', 'Wired Headphones'): 12, ('Lightning Charging Cable', 'Flatscreen TV'): 12, ('27in FHD Monitor', 'Apple Airpods Headphones'): 12, ('USB-C Charging Cable', 'Google Phone'): 12, ('27in 4K Gaming Monitor', 'AA Batteries (4-pack)'): 12, ('34in Ultrawide Monitor', 'AAA Batteries (4-pack)'): 12, ('AAA Batteries (4-pack)', 'Google Phone'): 11, ('AAA Batteries (4-pack)', 'Macbook Pro Laptop'): 11, ('USB-C Charging Cable', '27in 4K Gaming Monitor'): 11, ('USB-C Charging Cable', 'ThinkPad Laptop'): 11, ('34in Ultrawide Monitor', 'Wired Headphones'): 11, ('20in Monitor', 'Lightning Charging Cable'): 11, ('AA Batteries (4-pack)', '27in FHD Monitor'): 11, ('Bose SoundSport Headphones', '34in Ultrawide Monitor'): 11, ('ThinkPad Laptop', 'Lightning Charging Cable'): 11, ('Google Phone', 'AAA Batteries (4-pack)'): 11, ('USB-C Charging Cable', '34in Ultrawide Monitor'): 11, ('Macbook Pro Laptop', 'Lightning Charging Cable'): 11, ('AA Batteries (4-pack)', 'Google Phone'): 11, ('AAA Batteries (4-pack)', 'ThinkPad Laptop'): 11, ('Macbook Pro Laptop', 'Bose SoundSport Headphones'): 11, ('27in 4K Gaming Monitor', 'Wired Headphones'): 11, ('Flatscreen TV', 'AAA Batteries (4-pack)'): 11, ('Flatscreen TV', 'Lightning Charging Cable'): 10, ('Wired Headphones', 'ThinkPad Laptop'): 10, ('USB-C Charging Cable', '20in Monitor'): 10, ('27in 4K Gaming Monitor', 'Apple Airpods Headphones'): 10, ('USB-C Charging Cable', 'Flatscreen TV'): 10, ('27in FHD Monitor', 'Wired Headphones'): 10, ('AA Batteries (4-pack)', '20in Monitor'): 10, ('AAA Batteries (4-pack)', 'Flatscreen TV'): 10, ('Lightning Charging Cable', 'iPhone'): 10, ('Bose SoundSport Headphones', 'Flatscreen TV'): 10, ('Lightning Charging Cable', 'Macbook Pro Laptop'): 10, ('Bose SoundSport Headphones', '27in 4K Gaming Monitor'): 10, ('Apple Airpods Headphones', 'ThinkPad Laptop'): 9, ('Wired Headphones', 'Google Phone'): 9, ('27in 4K Gaming Monitor', 'Bose SoundSport Headphones'): 9, ('20in Monitor', 'Bose SoundSport Headphones'): 9, ('Macbook Pro Laptop', 'AA Batteries (4-pack)'): 9, ('ThinkPad Laptop', 'USB-C Charging Cable'): 9, ('ThinkPad Laptop', 'Bose SoundSport Headphones'): 9, ('Vareebadd Phone', 'AA Batteries (4-pack)'): 9, ('USB-C Charging Cable', 'Macbook Pro Laptop'): 9, ('27in FHD Monitor', '27in FHD Monitor'): 9, ('AA Batteries (4-pack)', 'ThinkPad Laptop'): 9, ('Lightning Charging Cable', 'ThinkPad Laptop'): 9, ('AA Batteries (4-pack)', 'Macbook Pro Laptop'): 8, ('Flatscreen TV', 'AA Batteries (4-pack)'): 8, ('Apple Airpods Headphones', 'Flatscreen TV'): 8, ('ThinkPad Laptop', 'AA Batteries (4-pack)'): 8, ('AAA Batteries (4-pack)', '20in Monitor'): 8, ('34in Ultrawide Monitor', 'Apple Airpods Headphones'): 8, ('Bose SoundSport Headphones', 'Google Phone'): 8, ('20in Monitor', 'Apple Airpods Headphones'): 7, ('Macbook Pro Laptop', 'Apple Airpods Headphones'): 7, ('Wired Headphones', 'Flatscreen TV'): 7, ('Wired Headphones', '20in Monitor'): 7, ('Macbook Pro Laptop', 'Wired Headphones'): 7, ('USB-C Charging Cable', 'Vareebadd Phone'): 7, ('Google Phone', '27in FHD Monitor'): 7, ('Macbook Pro Laptop', 'AAA Batteries (4-pack)'): 7, ('34in Ultrawide Monitor', 'iPhone'): 7, ('34in Ultrawide Monitor', '34in Ultrawide Monitor'): 7, ('Flatscreen TV', 'USB-C Charging Cable'): 7, ('Bose SoundSport Headphones', 'iPhone'): 7, ('ThinkPad Laptop', 'Apple Airpods Headphones'): 7, ('Google Phone', 'Apple Airpods Headphones'): 7, ('Macbook Pro Laptop', '27in 4K Gaming Monitor'): 7, ('iPhone', '27in 4K Gaming Monitor'): 6, ('Flatscreen TV', 'Flatscreen TV'): 6, ('Apple Airpods Headphones', '34in Ultrawide Monitor'): 6, ('iPhone', '34in Ultrawide Monitor'): 6, ('Vareebadd Phone', 'Apple Airpods Headphones'): 6, ('27in 4K Gaming Monitor', '34in Ultrawide Monitor'): 6, ('27in 4K Gaming Monitor', 'Macbook Pro Laptop'): 6, ('Bose SoundSport Headphones', '20in Monitor'): 6, ('iPhone', 'Flatscreen TV'): 6, ('Apple Airpods Headphones', '20in Monitor'): 6, ('Apple Airpods Headphones', 'Vareebadd Phone'): 6, ('Wired Headphones', 'Vareebadd Phone'): 6, ('34in Ultrawide Monitor', 'Bose SoundSport Headphones'): 6, ('Google Phone', 'iPhone'): 6, ('27in FHD Monitor', 'Macbook Pro Laptop'): 6, ('20in Monitor', 'AA Batteries (4-pack)'): 6, ('iPhone', 'Bose SoundSport Headphones'): 5, ('27in 4K Gaming Monitor', '27in 4K Gaming Monitor'): 5, ('Flatscreen TV', '34in Ultrawide Monitor'): 5, ('27in 4K Gaming Monitor', 'Google Phone'): 5, ('27in FHD Monitor', '34in Ultrawide Monitor'): 5, ('Flatscreen TV', 'Apple Airpods Headphones'): 5, ('34in Ultrawide Monitor', '27in FHD Monitor'): 5, ('Macbook Pro Laptop', '34in Ultrawide Monitor'): 4, ('iPhone', 'Vareebadd Phone'): 4, ('Bose SoundSport Headphones', 'ThinkPad Laptop'): 4, ('20in Monitor', 'Macbook Pro Laptop'): 4, ('Vareebadd Phone', '34in Ultrawide Monitor'): 4, ('Flatscreen TV', 'Wired Headphones'): 4, ('Flatscreen TV', '27in FHD Monitor'): 4, ('LG Dryer', 'AA Batteries (4-pack)'): 4, ('Flatscreen TV', 'Macbook Pro Laptop'): 4, ('27in FHD Monitor', '27in 4K Gaming Monitor'): 4, ('ThinkPad Laptop', 'Flatscreen TV'): 4, ('Flatscreen TV', 'iPhone'): 4, ('27in 4K Gaming Monitor', 'ThinkPad Laptop'): 4, ('Vareebadd Phone', 'Google Phone'): 4, ('Macbook Pro Laptop', 'Google Phone'): 4, ('27in 4K Gaming Monitor', '27in FHD Monitor'): 4, ('Lightning Charging Cable', 'LG Washing Machine'): 4, ('27in FHD Monitor', 'ThinkPad Laptop'): 4, ('ThinkPad Laptop', 'Wired Headphones'): 4, ('iPhone', 'ThinkPad Laptop'): 4, ('Bose SoundSport Headphones', 'Macbook Pro Laptop'): 4, ('AAA Batteries (4-pack)', 'Vareebadd Phone'): 4, ('LG Washing Machine', 'AAA Batteries (4-pack)'): 4, ('Macbook Pro Laptop', 'ThinkPad Laptop'): 3, ('ThinkPad Laptop', 'Google Phone'): 3, ('34in Ultrawide Monitor', 'Macbook Pro Laptop'): 3, ('Lightning Charging Cable', 'Vareebadd Phone'): 3, ('Google Phone', 'ThinkPad Laptop'): 3, ('20in Monitor', '20in Monitor'): 3, ('ThinkPad Laptop', 'iPhone'): 3, ('Vareebadd Phone', 'Flatscreen TV'): 3, ('34in Ultrawide Monitor', 'Flatscreen TV'): 3, ('Macbook Pro Laptop', 'Macbook Pro Laptop'): 3, ('34in Ultrawide Monitor', 'ThinkPad Laptop'): 3, ('Macbook Pro Laptop', 'iPhone'): 3, ('Vareebadd Phone', 'iPhone'): 3, ('Wired Headphones', 'LG Washing Machine'): 3, ('Google Phone', '34in Ultrawide Monitor'): 3, ('Macbook Pro Laptop', '27in FHD Monitor'): 3, ('Flatscreen TV', 'Bose SoundSport Headphones'): 3, ('AA Batteries (4-pack)', 'Vareebadd Phone'): 3, ('27in FHD Monitor', '20in Monitor'): 3, ('iPhone', 'Google Phone'): 3, ('27in 4K Gaming Monitor', 'iPhone'): 3, ('Google Phone', 'Google Phone'): 3, ('Flatscreen TV', 'Google Phone'): 3, ('Google Phone', 'Macbook Pro Laptop'): 3, ('27in 4K Gaming Monitor', 'Flatscreen TV'): 3, ('Apple Airpods Headphones', 'LG Dryer'): 3, ('20in Monitor', 'AAA Batteries (4-pack)'): 3, ('iPhone', 'Macbook Pro Laptop'): 3, ('34in Ultrawide Monitor', 'Google Phone'): 2, ('Macbook Pro Laptop', '20in Monitor'): 2, ('Lightning Charging Cable', 'LG Dryer'): 2, ('Flatscreen TV', '27in 4K Gaming Monitor'): 2, ('ThinkPad Laptop', 'Macbook Pro Laptop'): 2, ('Macbook Pro Laptop', 'LG Washing Machine'): 2, ('20in Monitor', '27in FHD Monitor'): 2, ('ThinkPad Laptop', 'ThinkPad Laptop'): 2, ('Bose SoundSport Headphones', 'Vareebadd Phone'): 2, ('Vareebadd Phone', 'ThinkPad Laptop'): 2, ('20in Monitor', 'ThinkPad Laptop'): 2, ('iPhone', 'iPhone'): 2, ('27in FHD Monitor', 'LG Dryer'): 2, ('Vareebadd Phone', '27in 4K Gaming Monitor'): 2, ('27in 4K Gaming Monitor', '20in Monitor'): 2, ('LG Washing Machine', 'Lightning Charging Cable'): 2, ('LG Washing Machine', 'Bose SoundSport Headphones'): 2, ('AA Batteries (4-pack)', 'LG Dryer'): 2, ('Vareebadd Phone', 'AAA Batteries (4-pack)'): 2, ('iPhone', '20in Monitor'): 2, ('20in Monitor', 'Google Phone'): 2, ('Flatscreen TV', 'ThinkPad Laptop'): 2, ('ThinkPad Laptop', '27in FHD Monitor'): 2, ('27in FHD Monitor', 'Flatscreen TV'): 2, ('Google Phone', '20in Monitor'): 2, ('27in 4K Gaming Monitor', 'Vareebadd Phone'): 1, ('27in FHD Monitor', 'iPhone'): 1, ('Vareebadd Phone', 'Lightning Charging Cable'): 1, ('Google Phone', 'Vareebadd Phone'): 1, ('20in Monitor', 'iPhone'): 1, ('LG Dryer', 'Vareebadd Phone'): 1, ('Macbook Pro Laptop', 'Flatscreen TV'): 1, ('ThinkPad Laptop', 'Vareebadd Phone'): 1, ('Google Phone', 'Flatscreen TV'): 1, ('LG Washing Machine', 'Google Phone'): 1, ('LG Washing Machine', 'Wired Headphones'): 1, ('LG Dryer', 'Flatscreen TV'): 1, ('27in FHD Monitor', 'LG Washing Machine'): 1, ('LG Dryer', '27in FHD Monitor'): 1, ('20in Monitor', '34in Ultrawide Monitor'): 1, ('34in Ultrawide Monitor', '20in Monitor'): 1, ('34in Ultrawide Monitor', 'LG Washing Machine'): 1, ('Google Phone', '27in 4K Gaming Monitor'): 1, ('LG Washing Machine', 'iPhone'): 1, ('LG Dryer', 'Wired Headphones'): 1, ('27in FHD Monitor', 'Vareebadd Phone'): 1, ('LG Washing Machine', '27in 4K Gaming Monitor'): 1, ('LG Washing Machine', 'Apple Airpods Headphones'): 1, ('27in 4K Gaming Monitor', 'LG Dryer'): 1, ('20in Monitor', 'LG Washing Machine'): 1, ('LG Dryer', 'Google Phone'): 1, ('Vareebadd Phone', '27in FHD Monitor'): 1, ('ThinkPad Laptop', '27in 4K Gaming Monitor'): 1, ('20in Monitor', 'Flatscreen TV'): 1, ('USB-C Charging Cable', 'LG Dryer'): 1, ('LG Washing Machine', '20in Monitor'): 1, ('Flatscreen TV', '20in Monitor'): 1, ('27in FHD Monitor', 'Google Phone'): 1, ('iPhone', '27in FHD Monitor'): 1, ('LG Dryer', 'AAA Batteries (4-pack)'): 1, ('ThinkPad Laptop', '34in Ultrawide Monitor'): 1, ('iPhone', 'LG Washing Machine'): 1, ('AAA Batteries (4-pack)', 'LG Dryer'): 1, ('LG Dryer', '27in 4K Gaming Monitor'): 1, ('LG Dryer', 'Lightning Charging Cable'): 1, ('ThinkPad Laptop', 'LG Dryer'): 1, ('LG Washing Machine', 'AA Batteries (4-pack)'): 1})\n"
     ]
    }
   ],
   "source": [
    "from itertools import combinations\n",
    "from collections import Counter\n",
    "\n",
    "count = Counter()\n",
    "\n",
    "#returns dictionary where key is tuple and value is number\n",
    "for row in df[\"Grouped\"]:\n",
    "    row_list = row.split(\",\")\n",
    "    count.update(Counter(combinations(row_list, 2)))\n",
    "    "
   ]
  },
  {
   "cell_type": "code",
   "execution_count": 27,
   "id": "d158b292-64c1-451b-9700-c0fb7afb063e",
   "metadata": {},
   "outputs": [
    {
     "data": {
      "text/plain": [
       "('iPhone', 'Lightning Charging Cable')"
      ]
     },
     "execution_count": 27,
     "metadata": {},
     "output_type": "execute_result"
    }
   ],
   "source": [
    "#by specifying key=d.get we can ensure that the comparison is based on the dictionary values rather than the keys\n",
    "res = max(count, key = count.get)"
   ]
  },
  {
   "cell_type": "markdown",
   "id": "b22347f2-fee2-459e-b7f7-8895d8f9d9fe",
   "metadata": {},
   "source": [
    "Answer: 'iPhone' and 'Lightning Charging Cable' are the most often sold together"
   ]
  },
  {
   "cell_type": "markdown",
   "id": "84913380-694f-4af4-b027-5b0c50c292f3",
   "metadata": {},
   "source": [
    "#### Question 5: What product sold the most?"
   ]
  },
  {
   "cell_type": "code",
   "execution_count": 38,
   "id": "7cb02f59-630d-41ea-9c9b-8a5e3a222e5e",
   "metadata": {},
   "outputs": [
    {
     "data": {
      "text/plain": [
       "'AAA Batteries (4-pack)'"
      ]
     },
     "execution_count": 38,
     "metadata": {},
     "output_type": "execute_result"
    }
   ],
   "source": [
    "df_concat[[\"Product\", \"Quantity Ordered\"]].groupby(\"Product\").sum()[\"Quantity Ordered\"].idxmax()"
   ]
  },
  {
   "cell_type": "markdown",
   "id": "de93b264-ac5f-488a-ae70-08b7b0118e07",
   "metadata": {},
   "source": [
    "Answer: AAA Batteries (4-pack) sold the most."
   ]
  },
  {
   "cell_type": "code",
   "execution_count": null,
   "id": "4535cdec-9306-41c1-a5ef-8ff9d6ca4cdf",
   "metadata": {},
   "outputs": [],
   "source": []
  }
 ],
 "metadata": {
  "kernelspec": {
   "display_name": "Python 3 (ipykernel)",
   "language": "python",
   "name": "python3"
  },
  "language_info": {
   "codemirror_mode": {
    "name": "ipython",
    "version": 3
   },
   "file_extension": ".py",
   "mimetype": "text/x-python",
   "name": "python",
   "nbconvert_exporter": "python",
   "pygments_lexer": "ipython3",
   "version": "3.13.2"
  }
 },
 "nbformat": 4,
 "nbformat_minor": 5
}
